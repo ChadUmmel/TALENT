{
 "cells": [
  {
   "cell_type": "code",
   "execution_count": 1,
   "metadata": {},
   "outputs": [],
   "source": [
    "#This code produces a plot to solve Homework 3 assigned by Carl Brune to the TALENT Nuclear Reaction Theory\n",
    "#Summer School in 2019\n",
    "#Author:  Chad Ummel\n",
    "\n",
    "import math\n",
    "import matplotlib.pyplot as plt\n",
    "import numpy as np\n",
    "import mpmath as mp"
   ]
  },
  {
   "cell_type": "code",
   "execution_count": 2,
   "metadata": {},
   "outputs": [],
   "source": [
    "#Physical constants\n",
    "hbar = 197.3286 #(hbar*c in MeV fm)\n",
    "alpha = 1/137 #Fine structure constant"
   ]
  },
  {
   "cell_type": "code",
   "execution_count": 3,
   "metadata": {},
   "outputs": [],
   "source": [
    "#Particle info\n",
    "\n",
    "#Channel d = d+t ->Index 0\n",
    "#Channel a = a+n ->Index 1\n",
    "\n",
    "#Masses (in MeV)\n",
    "mp = [2.013553212745*931.5,939.565] #projectile mass [m_d,m_n]\n",
    "mt = [3.0160492*931.5,3727.79378] #target mass [m_t,m_a]\n",
    "mu = np.multiply(mp,mt)/np.add(mp,mt)\n",
    "\n",
    "#Charges\n",
    "Zp = [1,0] #projectile charges [Z_d,Z_n]\n",
    "Zt = [1,2] #target charges [Z_t,Z-a]\n",
    "\n",
    "#Spins\n",
    "Jp = [1,1/2] #Projectile Spins [J_d,J_n]\n",
    "Jt = [1/2,0] #Target spins [J_t,J_a]\n",
    "\n",
    "#Threshold Energies (in MeV)\n",
    "Q=[0,17.589293]"
   ]
  },
  {
   "cell_type": "code",
   "execution_count": 4,
   "metadata": {},
   "outputs": [],
   "source": [
    "#Constants defined by problem\n",
    "ac = [5.0,3.0]\n",
    "B = [-0.27864,-0.557]\n",
    "l=[0,2]\n",
    "gamma=[[0.95838,0.48304],[0.27781,1.51753]] #[[gamma_d_0,gamma_d_1],[gamma_a_0,gamma_a,1]\n",
    "ER = [0.021626,10.0]\n",
    "J = 3/2"
   ]
  },
  {
   "cell_type": "code",
   "execution_count": 5,
   "metadata": {},
   "outputs": [],
   "source": [
    "#Coulomb subroutine\n",
    "#NOT WORKING YET\n",
    "def coulomb(l,k,ac,eta):\n",
    "    rhoc = np.multiply(k,ac)\n",
    "    space = round(np.log10(rhoc))-1\n",
    "    meshpts = 1000\n",
    "    rho = np.linspace(rhoc-space,rhoc+space,meshpts+1)\n",
    "    F = mp.coulombf(l,eta,rho)\n",
    "    G = mp.coulombg(l,eta,rho)\n",
    "    Fc = F[int(meshpts/2)]\n",
    "    Gc = G[int(meshpts/2)]\n",
    "    A = np.sqrt(F*F + G*G)\n",
    "    Ac = A[int(meshpts/2)]\n",
    "    Aprime = np.gradient(A)\n",
    "    Acprime = Aprime[int(meshpts/2)]\n",
    "    return(rhoc,Ac,Acprime)"
   ]
  },
  {
   "cell_type": "code",
   "execution_count": 6,
   "metadata": {},
   "outputs": [],
   "source": [
    "#Whittaker subroutine\n",
    "#NOT WORKING YET\n",
    "def whittaker(l,kappa,ac,etaneg):\n",
    "    rhoc = 2*kappa*ac\n",
    "    space = round(np.log10(rhoc))-1\n",
    "    meshpts = 1000\n",
    "    rho = np.linspace(rhoc-space,rhoc+space,meshpts+1)\n",
    "    W=mp.whitw(etaneg,l+1/2,rho)\n",
    "    Wc = W[int(meshpts/2)]\n",
    "    Wprime = np.gradient(W)\n",
    "    Wcprime = Wprime[int(meshpts/2)]\n",
    "    return(rhoc,Wc,Wcprime)"
   ]
  },
  {
   "cell_type": "code",
   "execution_count": 7,
   "metadata": {
    "scrolled": true
   },
   "outputs": [],
   "source": [
    "#Penetration subroutine\n",
    "def penetration(ECM,ac,l,k,eta):\n",
    "    if ECM < 0:\n",
    "        pen = 0.0\n",
    "    else:\n",
    "        (rhoc,Ac,Acprime)=coulomb(l,k,ac,eta)\n",
    "        P = rhoc/Ac\n",
    "        return(P)"
   ]
  },
  {
   "cell_type": "code",
   "execution_count": 8,
   "metadata": {},
   "outputs": [],
   "source": [
    "#Shift subroutine\n",
    "def shift(ECM,ac,l,k,kappa,eta,etaneg):\n",
    "    if ECM < 0:\n",
    "        (rhoc,Wc,Wcprime)=whittaker(l,kappa,ac,etaneg)\n",
    "        Sc = rhoc/Wc*Wcprime\n",
    "    else:\n",
    "        (rhoc,Ac,Acprime)=coulomb(l,k,ac,eta)\n",
    "        Sc = rhoc*Acprime/Ac\n",
    "        return(Sc)"
   ]
  },
  {
   "cell_type": "code",
   "execution_count": 9,
   "metadata": {},
   "outputs": [],
   "source": [
    "#R-matrix subroutine\n",
    "def Rmatrix(E):\n",
    "    \n",
    "    E = E/1000 #Convert to MeV\n",
    "    ECM = [0,0]\n",
    "    ECM[0] = E*mt[0]/(mp[0]+mt[0])/1000\n",
    "    ECM[1] = E*mt[1]/(mp[1]+mt[1])/1000\n",
    "    kpre = np.sqrt(2*mu)/hbar\n",
    "    k = kpre*np.sqrt(ECM)\n",
    "    kappa = kpre*np.sqrt(np.subtract(0,ECM))\n",
    "    etapre = alpha*np.multiply(Zp,Zt)*np.sqrt(mu/2);\n",
    "    eta = etapre/np.sqrt(ECM)\n",
    "    etaneg = -1*etapre/np.sqrt(np.subtract(0,ECM))\n",
    "\n",
    "    #Calculate g-factors\n",
    "    g = [0,0]\n",
    "    g[0] = (2*J+1)/((2*Jp[0]+1)*(2*Jt[0]+1))\n",
    "    g[1] = (2*J+1)/((2*Jp[1]+1)*(2*Jt[0]+1))\n",
    "\n",
    "    #Calculate Excitation Energies\n",
    "    Ex = ECM[0]-Q[0]\n",
    "\n",
    "    #Calculate the R-matrix boi\n",
    "    L=[0,0]\n",
    "    R = [[0,0],[0,0]]\n",
    "    R1 = [[0,0],[0,0]]\n",
    "    P = [0,0]\n",
    "    Sc = [0,0]\n",
    "    P[0]=penetration(ECM[0],ac[0],l[0],k[0],eta[0])\n",
    "    P[1]=penetration(ECM[1],ac[1],l[1],k[1],eta[1])\n",
    "    Sc[0] =shift(ECM[0],ac[0],l[0],k[0],kappa[0],eta[0],etaneg[0])\n",
    "    Sc[1] =shift(ECM[1],ac[1],l[1],k[1],kappa[1],eta[1],etaneg[1])\n",
    "    for i in range(0,2,1):\n",
    "        for j in range(0,2,1):\n",
    "            for level in range(0,2,1):\n",
    "                R[i][j] = R[i][j] + gamma[i][level]*gamma[j][level]/(ER[level]-Ex)\n",
    "            L[j] = complex(0,0)#Sc[j],P[j])\n",
    "            R1[i][j] = -1*R[i][j]*(L[j]-B[j])\n",
    "            if i==j:\n",
    "                R1[i][j] = R1[i][j] + 1\n",
    "    \n",
    "    RL = np.matmul(np.linalg.inv(R1),R)\n",
    "    \n",
    "    cs = math.pi/k[0]**2*g[0]*4*P[0]*P[1]*abs(RL[0][1]**2)/100\n",
    "    S = cs*ECM[0]*math.exp(2*math.pi*eta[0])\n",
    "    \n",
    "    return(cs,S)"
   ]
  },
  {
   "cell_type": "code",
   "execution_count": 10,
   "metadata": {},
   "outputs": [
    {
     "name": "stderr",
     "output_type": "stream",
     "text": [
      "/usr/local/lib/python3.6/dist-packages/ipykernel_launcher.py:10: RuntimeWarning: invalid value encountered in sqrt\n",
      "  # Remove the CWD from sys.path while we load stuff.\n",
      "/usr/local/lib/python3.6/dist-packages/ipykernel_launcher.py:13: RuntimeWarning: invalid value encountered in sqrt\n",
      "  del sys.path[0]\n"
     ]
    },
    {
     "ename": "AttributeError",
     "evalue": "'list' object has no attribute 'coulombf'",
     "output_type": "error",
     "traceback": [
      "\u001b[0;31m---------------------------------------------------------------------------\u001b[0m",
      "\u001b[0;31mAttributeError\u001b[0m                            Traceback (most recent call last)",
      "\u001b[0;32m<ipython-input-10-4c71e6d3e180>\u001b[0m in \u001b[0;36m<module>\u001b[0;34m\u001b[0m\n\u001b[0;32m----> 1\u001b[0;31m \u001b[0;34m(\u001b[0m\u001b[0mcs\u001b[0m\u001b[0;34m,\u001b[0m\u001b[0mS\u001b[0m\u001b[0;34m)\u001b[0m\u001b[0;34m=\u001b[0m\u001b[0mRmatrix\u001b[0m\u001b[0;34m(\u001b[0m\u001b[0;36m100\u001b[0m\u001b[0;34m)\u001b[0m\u001b[0;34m\u001b[0m\u001b[0;34m\u001b[0m\u001b[0m\n\u001b[0m",
      "\u001b[0;32m<ipython-input-9-981302e74d68>\u001b[0m in \u001b[0;36mRmatrix\u001b[0;34m(E)\u001b[0m\n\u001b[1;32m     27\u001b[0m     \u001b[0mP\u001b[0m \u001b[0;34m=\u001b[0m \u001b[0;34m[\u001b[0m\u001b[0;36m0\u001b[0m\u001b[0;34m,\u001b[0m\u001b[0;36m0\u001b[0m\u001b[0;34m]\u001b[0m\u001b[0;34m\u001b[0m\u001b[0;34m\u001b[0m\u001b[0m\n\u001b[1;32m     28\u001b[0m     \u001b[0mSc\u001b[0m \u001b[0;34m=\u001b[0m \u001b[0;34m[\u001b[0m\u001b[0;36m0\u001b[0m\u001b[0;34m,\u001b[0m\u001b[0;36m0\u001b[0m\u001b[0;34m]\u001b[0m\u001b[0;34m\u001b[0m\u001b[0;34m\u001b[0m\u001b[0m\n\u001b[0;32m---> 29\u001b[0;31m     \u001b[0mP\u001b[0m\u001b[0;34m[\u001b[0m\u001b[0;36m0\u001b[0m\u001b[0;34m]\u001b[0m\u001b[0;34m=\u001b[0m\u001b[0mpenetration\u001b[0m\u001b[0;34m(\u001b[0m\u001b[0mECM\u001b[0m\u001b[0;34m[\u001b[0m\u001b[0;36m0\u001b[0m\u001b[0;34m]\u001b[0m\u001b[0;34m,\u001b[0m\u001b[0mac\u001b[0m\u001b[0;34m[\u001b[0m\u001b[0;36m0\u001b[0m\u001b[0;34m]\u001b[0m\u001b[0;34m,\u001b[0m\u001b[0ml\u001b[0m\u001b[0;34m[\u001b[0m\u001b[0;36m0\u001b[0m\u001b[0;34m]\u001b[0m\u001b[0;34m,\u001b[0m\u001b[0mk\u001b[0m\u001b[0;34m[\u001b[0m\u001b[0;36m0\u001b[0m\u001b[0;34m]\u001b[0m\u001b[0;34m,\u001b[0m\u001b[0meta\u001b[0m\u001b[0;34m[\u001b[0m\u001b[0;36m0\u001b[0m\u001b[0;34m]\u001b[0m\u001b[0;34m)\u001b[0m\u001b[0;34m\u001b[0m\u001b[0;34m\u001b[0m\u001b[0m\n\u001b[0m\u001b[1;32m     30\u001b[0m     \u001b[0mP\u001b[0m\u001b[0;34m[\u001b[0m\u001b[0;36m1\u001b[0m\u001b[0;34m]\u001b[0m\u001b[0;34m=\u001b[0m\u001b[0mpenetration\u001b[0m\u001b[0;34m(\u001b[0m\u001b[0mECM\u001b[0m\u001b[0;34m[\u001b[0m\u001b[0;36m1\u001b[0m\u001b[0;34m]\u001b[0m\u001b[0;34m,\u001b[0m\u001b[0mac\u001b[0m\u001b[0;34m[\u001b[0m\u001b[0;36m1\u001b[0m\u001b[0;34m]\u001b[0m\u001b[0;34m,\u001b[0m\u001b[0ml\u001b[0m\u001b[0;34m[\u001b[0m\u001b[0;36m1\u001b[0m\u001b[0;34m]\u001b[0m\u001b[0;34m,\u001b[0m\u001b[0mk\u001b[0m\u001b[0;34m[\u001b[0m\u001b[0;36m1\u001b[0m\u001b[0;34m]\u001b[0m\u001b[0;34m,\u001b[0m\u001b[0meta\u001b[0m\u001b[0;34m[\u001b[0m\u001b[0;36m1\u001b[0m\u001b[0;34m]\u001b[0m\u001b[0;34m)\u001b[0m\u001b[0;34m\u001b[0m\u001b[0;34m\u001b[0m\u001b[0m\n\u001b[1;32m     31\u001b[0m     \u001b[0mSc\u001b[0m\u001b[0;34m[\u001b[0m\u001b[0;36m0\u001b[0m\u001b[0;34m]\u001b[0m \u001b[0;34m=\u001b[0m\u001b[0mshift\u001b[0m\u001b[0;34m(\u001b[0m\u001b[0mECM\u001b[0m\u001b[0;34m[\u001b[0m\u001b[0;36m0\u001b[0m\u001b[0;34m]\u001b[0m\u001b[0;34m,\u001b[0m\u001b[0mac\u001b[0m\u001b[0;34m[\u001b[0m\u001b[0;36m0\u001b[0m\u001b[0;34m]\u001b[0m\u001b[0;34m,\u001b[0m\u001b[0ml\u001b[0m\u001b[0;34m[\u001b[0m\u001b[0;36m0\u001b[0m\u001b[0;34m]\u001b[0m\u001b[0;34m,\u001b[0m\u001b[0mk\u001b[0m\u001b[0;34m[\u001b[0m\u001b[0;36m0\u001b[0m\u001b[0;34m]\u001b[0m\u001b[0;34m,\u001b[0m\u001b[0mkappa\u001b[0m\u001b[0;34m[\u001b[0m\u001b[0;36m0\u001b[0m\u001b[0;34m]\u001b[0m\u001b[0;34m,\u001b[0m\u001b[0meta\u001b[0m\u001b[0;34m[\u001b[0m\u001b[0;36m0\u001b[0m\u001b[0;34m]\u001b[0m\u001b[0;34m,\u001b[0m\u001b[0metaneg\u001b[0m\u001b[0;34m[\u001b[0m\u001b[0;36m0\u001b[0m\u001b[0;34m]\u001b[0m\u001b[0;34m)\u001b[0m\u001b[0;34m\u001b[0m\u001b[0;34m\u001b[0m\u001b[0m\n",
      "\u001b[0;32m<ipython-input-7-a6bbb68cfae6>\u001b[0m in \u001b[0;36mpenetration\u001b[0;34m(ECM, ac, l, k, eta)\u001b[0m\n\u001b[1;32m      4\u001b[0m         \u001b[0mpen\u001b[0m \u001b[0;34m=\u001b[0m \u001b[0;36m0.0\u001b[0m\u001b[0;34m\u001b[0m\u001b[0;34m\u001b[0m\u001b[0m\n\u001b[1;32m      5\u001b[0m     \u001b[0;32melse\u001b[0m\u001b[0;34m:\u001b[0m\u001b[0;34m\u001b[0m\u001b[0;34m\u001b[0m\u001b[0m\n\u001b[0;32m----> 6\u001b[0;31m         \u001b[0;34m(\u001b[0m\u001b[0mrhoc\u001b[0m\u001b[0;34m,\u001b[0m\u001b[0mAc\u001b[0m\u001b[0;34m,\u001b[0m\u001b[0mAcprime\u001b[0m\u001b[0;34m)\u001b[0m\u001b[0;34m=\u001b[0m\u001b[0mcoulomb\u001b[0m\u001b[0;34m(\u001b[0m\u001b[0ml\u001b[0m\u001b[0;34m,\u001b[0m\u001b[0mk\u001b[0m\u001b[0;34m,\u001b[0m\u001b[0mac\u001b[0m\u001b[0;34m,\u001b[0m\u001b[0meta\u001b[0m\u001b[0;34m)\u001b[0m\u001b[0;34m\u001b[0m\u001b[0;34m\u001b[0m\u001b[0m\n\u001b[0m\u001b[1;32m      7\u001b[0m         \u001b[0mP\u001b[0m \u001b[0;34m=\u001b[0m \u001b[0mrhoc\u001b[0m\u001b[0;34m/\u001b[0m\u001b[0mAc\u001b[0m\u001b[0;34m\u001b[0m\u001b[0;34m\u001b[0m\u001b[0m\n\u001b[1;32m      8\u001b[0m         \u001b[0;32mreturn\u001b[0m\u001b[0;34m(\u001b[0m\u001b[0mP\u001b[0m\u001b[0;34m)\u001b[0m\u001b[0;34m\u001b[0m\u001b[0;34m\u001b[0m\u001b[0m\n",
      "\u001b[0;32m<ipython-input-5-ac2e875296c0>\u001b[0m in \u001b[0;36mcoulomb\u001b[0;34m(l, k, ac, eta)\u001b[0m\n\u001b[1;32m      6\u001b[0m     \u001b[0mmeshpts\u001b[0m \u001b[0;34m=\u001b[0m \u001b[0;36m1000\u001b[0m\u001b[0;34m\u001b[0m\u001b[0;34m\u001b[0m\u001b[0m\n\u001b[1;32m      7\u001b[0m     \u001b[0mrho\u001b[0m \u001b[0;34m=\u001b[0m \u001b[0mnp\u001b[0m\u001b[0;34m.\u001b[0m\u001b[0mlinspace\u001b[0m\u001b[0;34m(\u001b[0m\u001b[0mrhoc\u001b[0m\u001b[0;34m-\u001b[0m\u001b[0mspace\u001b[0m\u001b[0;34m,\u001b[0m\u001b[0mrhoc\u001b[0m\u001b[0;34m+\u001b[0m\u001b[0mspace\u001b[0m\u001b[0;34m,\u001b[0m\u001b[0mmeshpts\u001b[0m\u001b[0;34m+\u001b[0m\u001b[0;36m1\u001b[0m\u001b[0;34m)\u001b[0m\u001b[0;34m\u001b[0m\u001b[0;34m\u001b[0m\u001b[0m\n\u001b[0;32m----> 8\u001b[0;31m     \u001b[0mF\u001b[0m \u001b[0;34m=\u001b[0m \u001b[0mmp\u001b[0m\u001b[0;34m.\u001b[0m\u001b[0mcoulombf\u001b[0m\u001b[0;34m(\u001b[0m\u001b[0ml\u001b[0m\u001b[0;34m,\u001b[0m\u001b[0meta\u001b[0m\u001b[0;34m,\u001b[0m\u001b[0mrho\u001b[0m\u001b[0;34m)\u001b[0m\u001b[0;34m\u001b[0m\u001b[0;34m\u001b[0m\u001b[0m\n\u001b[0m\u001b[1;32m      9\u001b[0m     \u001b[0mG\u001b[0m \u001b[0;34m=\u001b[0m \u001b[0mmp\u001b[0m\u001b[0;34m.\u001b[0m\u001b[0mcoulombg\u001b[0m\u001b[0;34m(\u001b[0m\u001b[0ml\u001b[0m\u001b[0;34m,\u001b[0m\u001b[0meta\u001b[0m\u001b[0;34m,\u001b[0m\u001b[0mrho\u001b[0m\u001b[0;34m)\u001b[0m\u001b[0;34m\u001b[0m\u001b[0;34m\u001b[0m\u001b[0m\n\u001b[1;32m     10\u001b[0m     \u001b[0mFc\u001b[0m \u001b[0;34m=\u001b[0m \u001b[0mF\u001b[0m\u001b[0;34m[\u001b[0m\u001b[0mint\u001b[0m\u001b[0;34m(\u001b[0m\u001b[0mmeshpts\u001b[0m\u001b[0;34m/\u001b[0m\u001b[0;36m2\u001b[0m\u001b[0;34m)\u001b[0m\u001b[0;34m]\u001b[0m\u001b[0;34m\u001b[0m\u001b[0;34m\u001b[0m\u001b[0m\n",
      "\u001b[0;31mAttributeError\u001b[0m: 'list' object has no attribute 'coulombf'"
     ]
    }
   ],
   "source": [
    "(cs,S)=Rmatrix(100)"
   ]
  }
 ],
 "metadata": {
  "kernelspec": {
   "display_name": "Python 3",
   "language": "python",
   "name": "python3"
  },
  "language_info": {
   "codemirror_mode": {
    "name": "ipython",
    "version": 3
   },
   "file_extension": ".py",
   "mimetype": "text/x-python",
   "name": "python",
   "nbconvert_exporter": "python",
   "pygments_lexer": "ipython3",
   "version": "3.6.8"
  }
 },
 "nbformat": 4,
 "nbformat_minor": 2
}
