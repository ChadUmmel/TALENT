{
 "cells": [
  {
   "cell_type": "code",
   "execution_count": 117,
   "metadata": {},
   "outputs": [],
   "source": [
    "#This code produces a plot to solve Homework 3 assigned by Carl Brune to the TALENT Nuclear Reaction Theory\n",
    "#Summer School in 2019\n",
    "#Author:  Chad Ummel\n",
    "\n",
    "import math\n",
    "import matplotlib.pyplot as plt\n",
    "import numpy as np\n",
    "import mpmath as mm"
   ]
  },
  {
   "cell_type": "code",
   "execution_count": 118,
   "metadata": {},
   "outputs": [],
   "source": [
    "#Physical constants\n",
    "hbar = 197.3269 #(hbar*c in MeV fm)\n",
    "alpha = 1/137.035999679 #Fine structure constant"
   ]
  },
  {
   "cell_type": "code",
   "execution_count": 119,
   "metadata": {},
   "outputs": [],
   "source": [
    "#Particle info\n",
    "\n",
    "#Channel d = d+t ->Index 0\n",
    "#Channel a = a+n ->Index 1\n",
    "\n",
    "#Masses (in MeV)\n",
    "mp = [2.013553212745*931.5,939.565] #projectile mass [m_d,m_n]\n",
    "mt = [3.0160492*931.5,3727.79378] #target mass [m_t,m_a]\n",
    "mu = np.multiply(mp,mt)/np.add(mp,mt)\n",
    "\n",
    "#Charges\n",
    "Zp = [1,0] #projectile charges [Z_d,Z_n]\n",
    "Zt = [1,2] #target charges [Z_t,Z-a]\n",
    "\n",
    "#Spins\n",
    "Jp = [1,0.5] #Projectile Spins [J_d,J_n]\n",
    "Jt = [0.5,0] #Target spins [J_t,J_a]\n",
    "\n",
    "#Threshold Energies (in MeV)\n",
    "Q=[0,17.589293]"
   ]
  },
  {
   "cell_type": "code",
   "execution_count": 143,
   "metadata": {},
   "outputs": [],
   "source": [
    "#Constants defined by problem\n",
    "ac = [5.0,3.0]\n",
    "B = [-0.27864,-0.557]\n",
    "l=[0,2]\n",
    "gamma=[[0.95838,0.48304],[0.27781,1.51753]] #[[gamma_d_0,gamma_d_1],[gamma_a_0,gamma_a,1]\n",
    "ER = [0.021626,10.0]\n",
    "J = 1.5"
   ]
  },
  {
   "cell_type": "code",
   "execution_count": 121,
   "metadata": {},
   "outputs": [],
   "source": [
    "#Coulomb subroutine\n",
    "def coulomb(l,k,ac,eta):\n",
    "    rhoc = np.multiply(k,ac)\n",
    "    F = lambda rho: mm.coulombf(l,eta,rho)\n",
    "    G = lambda rho: mm.coulombg(l,eta,rho)\n",
    "    Fprime = lambda rho: mm.diff(F,rho)\n",
    "    Gprime = lambda rho: mm.diff(G,rho)\n",
    "    Fc = float(F(rhoc))\n",
    "    Gc = float(G(rhoc))\n",
    "    Fcprime = float(Fprime(rhoc))\n",
    "    Gcprime = float(Gprime(rhoc))\n",
    "    Ac = math.sqrt(Fc*Fc + Gc*Gc)\n",
    "    Acprime = (Fc*Fcprime + Gc*Gcprime)/math.sqrt(Fc*Fc + Gc*Gc)\n",
    "    return(rhoc,Ac,Acprime)"
   ]
  },
  {
   "cell_type": "code",
   "execution_count": 122,
   "metadata": {},
   "outputs": [],
   "source": [
    "#Whittaker subroutine\n",
    "def whittaker(l,kappa,ac,etaneg):\n",
    "    rhoc = 2*kappa*ac\n",
    "    W = lambda rho: mm.whitm(etaneg,l+0.5,rho)\n",
    "    Wprime = lambda rho: mm.diff(W,rho)\n",
    "    Wc = float(W(rhoc))\n",
    "    Wcprime = float(Wprime(rhoc))\n",
    "    return(rhoc,Wc,Wcprime)"
   ]
  },
  {
   "cell_type": "code",
   "execution_count": 128,
   "metadata": {
    "scrolled": true
   },
   "outputs": [],
   "source": [
    "#Penetration subroutine\n",
    "def penetration(ECM,ac,l,k,eta):\n",
    "    if ECM < 0:\n",
    "        P = 0.0\n",
    "    else:\n",
    "        (rhoc,Ac,Acprime)=coulomb(l,k,ac,eta)\n",
    "        P = rhoc/Ac\n",
    "        return(P)"
   ]
  },
  {
   "cell_type": "code",
   "execution_count": 129,
   "metadata": {},
   "outputs": [],
   "source": [
    "#Shift subroutine\n",
    "def shift(ECM,ac,l,k,kappa,eta,etaneg):\n",
    "    if ECM < 0:\n",
    "        (rhoc,Wc,Wcprime)=whittaker(l,kappa,ac,etaneg)\n",
    "        Sc = rhoc/Wc*Wcprime\n",
    "    else:\n",
    "        (rhoc,Ac,Acprime)=coulomb(l,k,ac,eta)\n",
    "        Sc = rhoc*Acprime/Ac\n",
    "        return(Sc)"
   ]
  },
  {
   "cell_type": "code",
   "execution_count": 273,
   "metadata": {},
   "outputs": [],
   "source": [
    "#R-matrix subroutine\n",
    "def Rmatrix(E):\n",
    "    \n",
    "    E = E/1000 #Convert to MeV\n",
    "    ECM = [0,0]\n",
    "    ECM[0] = E*mt[0]/(mp[0]+mt[0])\n",
    "    ECM[1] = E*mt[1]/(mp[1]+mt[1])\n",
    "\n",
    "    #Calculate g-factors\n",
    "    g = [0,0]\n",
    "    g[0] = (2*J+1)/((2*Jp[0]+1)*(2*Jt[0]+1))\n",
    "    g[1] = (2*J+1)/((2*Jp[1]+1)*(2*Jt[0]+1))\n",
    "\n",
    "    #Calculate Excitation Energies\n",
    "    Ex = [0,0]\n",
    "    Ex[0] = ECM[0]\n",
    "    Ex[1] = ECM[0]-Q[0]+Q[1]\n",
    "    \n",
    "    kpre = np.sqrt(2*mu)/hbar\n",
    "    k = kpre*np.sqrt(Ex)\n",
    "    kappa = kpre*np.sqrt(np.subtract(0,Ex))\n",
    "    etapre = alpha*np.multiply(Zp,Zt)*np.sqrt(mu/2);\n",
    "    eta = etapre/np.sqrt(Ex)\n",
    "    etaneg = -1*etapre/np.sqrt(np.subtract(0,Ex))\n",
    "    \n",
    "    #Calculate the R-matrix boi\n",
    "    L=[0,0]\n",
    "    R = [[0,0],[0,0]]\n",
    "    R1 = [[0,0],[0,0]]\n",
    "    P = [0,0]\n",
    "    Sc = [0,0]\n",
    "    P[0]=penetration(Ex[0],ac[0],l[0],k[0],eta[0])\n",
    "    P[1]=penetration(Ex[1],ac[1],l[1],k[1],eta[1])\n",
    "    Sc[0] =shift(Ex[0],ac[0],l[0],k[0],kappa[0],eta[0],etaneg[0])\n",
    "    Sc[1] =shift(Ex[1],ac[1],l[1],k[1],kappa[1],eta[1],etaneg[1])\n",
    "    for i in range(0,2,1):\n",
    "        for j in range(0,2,1):\n",
    "            for level in range(0,2,1):\n",
    "                R[i][j] = R[i][j] + gamma[i][level]*gamma[j][level]/(ER[level]-Ex[0])\n",
    "            L[j] = complex(Sc[j],P[j])\n",
    "            R1[i][j] = R[i][j]*(B[j]-L[j])\n",
    "            if i==j:\n",
    "                R1[i][j] = R1[i][j] + 1\n",
    "    \n",
    "    RL = np.matmul(np.linalg.inv(R1),R)\n",
    "    \n",
    "    cs = math.pi/(k[0]*k[0])*g[0]*4*P[0]*P[1]*abs(RL[0][1]*RL[0][1])*0.01\n",
    "    S = cs*ECM[0]*math.exp(2*math.pi*eta[0])\n",
    "        \n",
    "    return(cs,S)"
   ]
  },
  {
   "cell_type": "code",
   "execution_count": 274,
   "metadata": {},
   "outputs": [
    {
     "name": "stderr",
     "output_type": "stream",
     "text": [
      "/usr/local/lib/python3.6/dist-packages/ipykernel_launcher.py:21: RuntimeWarning: invalid value encountered in sqrt\n",
      "/usr/local/lib/python3.6/dist-packages/ipykernel_launcher.py:24: RuntimeWarning: invalid value encountered in sqrt\n"
     ]
    }
   ],
   "source": [
    "E = np.linspace(1,140,14)\n",
    "cs = np.zeros(len(E))\n",
    "S = np.zeros(len(E))\n",
    "for i in range(0,len(E),1):\n",
    "    (cs[i],S[i])=Rmatrix(E[i])"
   ]
  },
  {
   "cell_type": "code",
   "execution_count": 275,
   "metadata": {},
   "outputs": [
    {
     "data": {
      "image/png": "[encoded data removed]",
      "text/plain": [
       "<Figure size 432x288 with 1 Axes>"
      ]
     },
     "metadata": {
      "needs_background": "light"
     },
     "output_type": "display_data"
    }
   ],
   "source": [
    "plt.plot(E,cs)\n",
    "plt.grid()"
   ]
  },
  {
   "cell_type": "code",
   "execution_count": 277,
   "metadata": {},
   "outputs": [
    {
     "data": {
      "text/plain": [
       "(0, 1000)"
      ]
     },
     "execution_count": 277,
     "metadata": {},
     "output_type": "execute_result"
    },
    {
     "data": {
      "image/png": "[encoded data removed]",
      "text/plain": [
       "<Figure size 432x288 with 1 Axes>"
      ]
     },
     "metadata": {
      "needs_background": "light"
     },
     "output_type": "display_data"
    }
   ],
   "source": [
    "#Something is up with S because it looks awful\n",
    "plt.plot(E,S)\n",
    "plt.grid()\n",
    "plt.xlim(10,140)\n",
    "plt.ylim(0,1000)"
   ]
  }
 ],
 "metadata": {
  "kernelspec": {
   "display_name": "Python 3",
   "language": "python",
   "name": "python3"
  },
  "language_info": {
   "codemirror_mode": {
    "name": "ipython",
    "version": 3
   },
   "file_extension": ".py",
   "mimetype": "text/x-python",
   "name": "python",
   "nbconvert_exporter": "python",
   "pygments_lexer": "ipython3",
   "version": "3.6.8"
  }
 },
 "nbformat": 4,
 "nbformat_minor": 2
}
