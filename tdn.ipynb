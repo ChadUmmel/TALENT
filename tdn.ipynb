{
 "cells": [
  {
   "cell_type": "code",
   "execution_count": 8,
   "metadata": {},
   "outputs": [],
   "source": [
    "#This code produces a plot to solve Homework 3 assigned by Carl Brune to the TALENT Nuclear Reaction Theory\n",
    "#Summer School in 2019\n",
    "#Author:  Chad Ummel\n",
    "\n",
    "import math\n",
    "import matplotlib.pyplot as plt\n",
    "import numpy as np\n",
    "import sympy as sym"
   ]
  },
  {
   "cell_type": "code",
   "execution_count": 9,
   "metadata": {},
   "outputs": [],
   "source": [
    "#Physical constants\n",
    "hbar = 197.3286 #(hbar*c in MeV fm)\n",
    "alpha = 1/137 #Fine structure constant"
   ]
  },
  {
   "cell_type": "code",
   "execution_count": 10,
   "metadata": {},
   "outputs": [],
   "source": [
    "#Particle info\n",
    "\n",
    "#Channel d = d+t ->Index 0\n",
    "#Channel a = a+n ->Index 1\n",
    "\n",
    "#Masses (in MeV)\n",
    "mp = [2.013553212745*931.5,939.565] #projectile mass [m_d,m_n]\n",
    "mt = [3.0160492*931.5,3727.79378] #target mass [m_t,m_a]\n",
    "mu = np.multiply(mp,mt)/np.add(mp,mt)\n",
    "\n",
    "#Charges\n",
    "Zp = [1,0] #projectile charges [Z_d,Z_n]\n",
    "Zt = [1,2] #target charges [Z_t,Z-a]\n",
    "\n",
    "#Spins\n",
    "Jp = [1,1/2] #Projectile Spins [J_d,J_n]\n",
    "Jt = [1/2,0] #Target spins [J_t,J_a]\n",
    "\n",
    "#Threshold Energies (in MeV)\n",
    "Q=[0,17.589293]"
   ]
  },
  {
   "cell_type": "code",
   "execution_count": 11,
   "metadata": {},
   "outputs": [],
   "source": [
    "#Constants defined by problem\n",
    "ac = [5.0,3.0]\n",
    "B = [-0.27864,-0.557]\n",
    "l=[0,2]\n",
    "gamma=[[0.95838,0.48304],[0.27781,1.51753]] #[[gamma_d_0,gamma_d_1],[gamma_a_0,gamma_a,1]\n",
    "ER = [0.021626,10.0]\n",
    "J = 3/2"
   ]
  },
  {
   "cell_type": "code",
   "execution_count": 12,
   "metadata": {},
   "outputs": [],
   "source": [
    "#Coulomb subroutine\n",
    "def coulomb():\n",
    "    nabro"
   ]
  },
  {
   "cell_type": "code",
   "execution_count": 13,
   "metadata": {},
   "outputs": [],
   "source": [
    "#Penetration subroutine\n",
    "def penetration(ECM,ka,kd,eta):\n",
    "    if ECM < 0:\n",
    "        pen = 0.0\n",
    "    else:\n",
    "        ka = kapre*np.sqrt(ECMa)\n",
    "        kd = kdpre*np.sqrt(ECMd)\n",
    "        eta = etapre/np.sqrt(ECMd)\n",
    "        #call a Coulomb function\n",
    "        #pen = k*a/(f**2+g**2)"
   ]
  },
  {
   "cell_type": "code",
   "execution_count": 15,
   "metadata": {},
   "outputs": [],
   "source": [
    "#Shift subroutine\n",
    "def shift(ECM,ka,kd,eta):\n",
    "    if ECM < 0:\n",
    "        ka = kapre*np.sqrt(-1*EMCa)\n",
    "        kd = kdpre*np.sqrt(-1*ECMd)\n",
    "        eta = etapre/np.sqrt(-1*ECMd)\n",
    "        #Call a Coulomb function\n",
    "        #shifta = 2*ka*a*(f*fp+g*gp)/(f**2+g**2)\n",
    "        #shiftd = 2*kd*a*(f*fp+g*gp)/(f**2+g**2)"
   ]
  },
  {
   "cell_type": "code",
   "execution_count": 16,
   "metadata": {},
   "outputs": [],
   "source": [
    "#R-matrix subroutine\n",
    "def Rmatrix(E):\n",
    "    \n",
    "    E = E/1000 #Convert to MeV\n",
    "    ECM = [0,0]\n",
    "    ECM[0] = E*mt[0]/(mp[0]+mt[0])/1000\n",
    "    ECM[1] = E*mt[1]/(mp[1]+mt[1])/1000\n",
    "    kpre = np.sqrt(2*mu)/hbar\n",
    "    k = kpre*np.sqrt(ECM)\n",
    "    etapre = alpha*np.multiply(Zp,Zt)*np.sqrt(mu/2);\n",
    "\n",
    "    #Calculate g-factors\n",
    "    g = [0,0]\n",
    "    g[0] = (2*J+1)/((2*Jp[0]+1)*(2*Jt[0]+1))\n",
    "    g[1] = (2*J+1)/((2*Jp[1]+1)*(2*Jt[0]+1))\n",
    "\n",
    "    #Calculate Excitation Energies\n",
    "    Ex = ECM[0]-Q[0]\n",
    "\n",
    "    #Calculate the R-matrix boi\n",
    "    L=[0,0]\n",
    "    R = [[0,0],[0,0]]\n",
    "    R1 = [[0,0],[0,0]]\n",
    "    for i in range(0,2,1):\n",
    "        for j in range(0,2,1):\n",
    "            for level in range(0,2,1):\n",
    "                R[i][j] = R[i][j] + gamma[i][level]*gamma[j][level]/(ER[level]-Ex)\n",
    "            L[j] = complex(0,0)#Sc[j],P[j])\n",
    "            R1[i][j] = -1*R[i][j]*(L[j]-B[j])\n",
    "            if i==j:\n",
    "                R1[i][j] = R1[i][j] + 1\n",
    "    \n",
    "    RL = np.matmul(np.linalg.inv(R1),R)\n",
    "    \n",
    "    cs = math.pi/k[0]**2*g[0]*4*abs(RL[0][1]**2)/100\n",
    "    \n",
    "    return(RL,cs)"
   ]
  }
 ],
 "metadata": {
  "kernelspec": {
   "display_name": "Python 3",
   "language": "python",
   "name": "python3"
  },
  "language_info": {
   "codemirror_mode": {
    "name": "ipython",
    "version": 3
   },
   "file_extension": ".py",
   "mimetype": "text/x-python",
   "name": "python",
   "nbconvert_exporter": "python",
   "pygments_lexer": "ipython3",
   "version": "3.6.8"
  }
 },
 "nbformat": 4,
 "nbformat_minor": 2
}
