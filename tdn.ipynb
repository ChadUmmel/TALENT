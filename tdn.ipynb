{
 "cells": [
  {
   "cell_type": "code",
   "execution_count": 56,
   "metadata": {},
   "outputs": [],
   "source": [
    "#This code produces a plot to solve Homework 3 assigned by Carl Brune to the TALENT Nuclear Reaction Theory\n",
    "#Summer School in 2019\n",
    "#Authors:  Chad Ummel and Rajesh Ghimire\n",
    "\n",
    "import math\n",
    "import matplotlib.pyplot as plt\n",
    "import numpy as np"
   ]
  },
  {
   "cell_type": "code",
   "execution_count": 57,
   "metadata": {},
   "outputs": [],
   "source": [
    "#Physical constants\n",
    "hbar = 197.3286 #(hbar*c in MeV fm)\n",
    "alpha = 1/137 #Fine structure constant"
   ]
  },
  {
   "cell_type": "code",
   "execution_count": 144,
   "metadata": {},
   "outputs": [],
   "source": [
    "#Particle info\n",
    "\n",
    "#Channel d = d+t ->Index 0\n",
    "#Channel a = a+n ->Index 1\n",
    "\n",
    "#Masses (in MeV)\n",
    "mp = [2.013553212745*931.5,939.565] #projectile mass [m_d,m_n]\n",
    "mt = [3.0160492*931.5,3727.79378] #target mass [m_t,m_a]\n",
    "mu = np.multiply(mp,mt)/np.add(mp,mt)\n",
    "\n",
    "#Charges\n",
    "Zp = [1,0] #projectile charges [Z_d,Z_n]\n",
    "Zt = [1,2] #target charges [Z_t,Z-a]\n",
    "\n",
    "#Spins\n",
    "Jp = [1,1/2] #Projectile Spins [J_d,J_n]\n",
    "Jt = [1/2,0] #Target spins [J_t,J_a]\n",
    "\n",
    "#Threshold Energies (in MeV)\n",
    "Q=[0,17.589293]"
   ]
  },
  {
   "cell_type": "code",
   "execution_count": 145,
   "metadata": {},
   "outputs": [],
   "source": [
    "#Constants defined by problem\n",
    "ac = [5.0,3.0]\n",
    "Bc = [-0.27864,-0.557]\n",
    "l=[0,2]\n",
    "gamma=[[0.95838,0.48304],[0.27781,1.51753]] #[[gamma_d_0,gamma_d_1],[gamma_a_0,gamma_a,1]\n",
    "ER = [0.021626,10.0]\n",
    "J = 3/2"
   ]
  },
  {
   "cell_type": "code",
   "execution_count": 272,
   "metadata": {},
   "outputs": [],
   "source": [
    "#R-matrix subroutine\n",
    "E = np.linspace(0.01,140,141)\n",
    "ECM = [0,0]\n",
    "ECM[0] = E*mt[0]/(mp[0]+mt[0])/1000\n",
    "ECM[1] = E*mt[1]/(mp[1]+mt[1])/1000\n",
    "kpre = np.sqrt(2*mu)/hbar\n",
    "etapre = alpha*np.multiply(Zp,Zt)*np.sqrt(mu/2);\n",
    "\n",
    "#Calculate g-factors\n",
    "g = [0,0]\n",
    "g[0] = (2*J+1)/((2*Jp[0]+1)*(2*Jt[0]+1))\n",
    "g[1] = (2*J+1)/((2*Jp[1]+1)*(2*Jt[0]+1))\n",
    "\n",
    "#Calculate Excitation Energies\n",
    "Ex = [0,0]\n",
    "Ex[0] = ECM[0]-Q[0]\n",
    "Ex[1] = ECM[1]-Q[1]\n",
    "\n",
    "#Calculate the R-matrix boi\n",
    "R = [[[0,0],[0,0]]]*len(E)\n",
    "for i in range(0,1,1):\n",
    "    for j in range(0,1,1):\n",
    "        for level in range(0,1,1):\n",
    "            for ex in range(0,len(Ex)-1,1):\n",
    "                R[ex][i][j] = R[i][j]+gamma[i][level]*gamma[j][level]/(ER[level]-Ex[i][ex])\n",
    "#This has problems\n",
    "#return(R)"
   ]
  },
  {
   "cell_type": "code",
   "execution_count": 275,
   "metadata": {},
   "outputs": [
    {
     "data": {
      "text/plain": [
       "array([-17.58928501, -17.58848638, -17.58768774, -17.5868891 ,\n",
       "       -17.58609046, -17.58529183, -17.58449319, -17.58369455,\n",
       "       -17.58289591, -17.58209728, -17.58129864, -17.5805    ,\n",
       "       -17.57970136, -17.57890273, -17.57810409, -17.57730545,\n",
       "       -17.57650681, -17.57570818, -17.57490954, -17.5741109 ,\n",
       "       -17.57331226, -17.57251363, -17.57171499, -17.57091635,\n",
       "       -17.57011771, -17.56931908, -17.56852044, -17.5677218 ,\n",
       "       -17.56692316, -17.56612453, -17.56532589, -17.56452725,\n",
       "       -17.56372861, -17.56292998, -17.56213134, -17.5613327 ,\n",
       "       -17.56053406, -17.55973543, -17.55893679, -17.55813815,\n",
       "       -17.55733952, -17.55654088, -17.55574224, -17.5549436 ,\n",
       "       -17.55414497, -17.55334633, -17.55254769, -17.55174905,\n",
       "       -17.55095042, -17.55015178, -17.54935314, -17.5485545 ,\n",
       "       -17.54775587, -17.54695723, -17.54615859, -17.54535995,\n",
       "       -17.54456132, -17.54376268, -17.54296404, -17.5421654 ,\n",
       "       -17.54136677, -17.54056813, -17.53976949, -17.53897085,\n",
       "       -17.53817222, -17.53737358, -17.53657494, -17.5357763 ,\n",
       "       -17.53497767, -17.53417903, -17.53338039, -17.53258175,\n",
       "       -17.53178312, -17.53098448, -17.53018584, -17.5293872 ,\n",
       "       -17.52858857, -17.52778993, -17.52699129, -17.52619265,\n",
       "       -17.52539402, -17.52459538, -17.52379674, -17.5229981 ,\n",
       "       -17.52219947, -17.52140083, -17.52060219, -17.51980356,\n",
       "       -17.51900492, -17.51820628, -17.51740764, -17.51660901,\n",
       "       -17.51581037, -17.51501173, -17.51421309, -17.51341446,\n",
       "       -17.51261582, -17.51181718, -17.51101854, -17.51021991,\n",
       "       -17.50942127, -17.50862263, -17.50782399, -17.50702536,\n",
       "       -17.50622672, -17.50542808, -17.50462944, -17.50383081,\n",
       "       -17.50303217, -17.50223353, -17.50143489, -17.50063626,\n",
       "       -17.49983762, -17.49903898, -17.49824034, -17.49744171,\n",
       "       -17.49664307, -17.49584443, -17.49504579, -17.49424716,\n",
       "       -17.49344852, -17.49264988, -17.49185124, -17.49105261,\n",
       "       -17.49025397, -17.48945533, -17.48865669, -17.48785806,\n",
       "       -17.48705942, -17.48626078, -17.48546214, -17.48466351,\n",
       "       -17.48386487, -17.48306623, -17.48226759, -17.48146896,\n",
       "       -17.48067032, -17.47987168, -17.47907305, -17.47827441,\n",
       "       -17.47747577])"
      ]
     },
     "execution_count": 275,
     "metadata": {},
     "output_type": "execute_result"
    }
   ],
   "source": [
    "Ex[1]"
   ]
  },
  {
   "cell_type": "code",
   "execution_count": 246,
   "metadata": {},
   "outputs": [
    {
     "ename": "TypeError",
     "evalue": "object of type 'int' has no len()",
     "output_type": "error",
     "traceback": [
      "\u001b[0;31m---------------------------------------------------------------------------\u001b[0m",
      "\u001b[0;31mTypeError\u001b[0m                                 Traceback (most recent call last)",
      "\u001b[0;32m<ipython-input-246-22e2cd352232>\u001b[0m in \u001b[0;36m<module>\u001b[0;34m\u001b[0m\n\u001b[0;32m----> 1\u001b[0;31m \u001b[0mlen\u001b[0m\u001b[0;34m(\u001b[0m\u001b[0mx\u001b[0m\u001b[0;34m[\u001b[0m\u001b[0;36m1\u001b[0m\u001b[0;34m]\u001b[0m\u001b[0;34m[\u001b[0m\u001b[0;36m1\u001b[0m\u001b[0;34m]\u001b[0m\u001b[0;34m[\u001b[0m\u001b[0;36m1\u001b[0m\u001b[0;34m]\u001b[0m\u001b[0;34m)\u001b[0m\u001b[0;34m\u001b[0m\u001b[0;34m\u001b[0m\u001b[0m\n\u001b[0m",
      "\u001b[0;31mTypeError\u001b[0m: object of type 'int' has no len()"
     ]
    }
   ],
   "source": []
  },
  {
   "cell_type": "code",
   "execution_count": 220,
   "metadata": {},
   "outputs": [
    {
     "ename": "TypeError",
     "evalue": "unsupported operand type(s) for -: 'float' and 'list'",
     "output_type": "error",
     "traceback": [
      "\u001b[0;31m---------------------------------------------------------------------------\u001b[0m",
      "\u001b[0;31mTypeError\u001b[0m                                 Traceback (most recent call last)",
      "\u001b[0;32m<ipython-input-220-aa8c26ee22ce>\u001b[0m in \u001b[0;36m<module>\u001b[0;34m\u001b[0m\n\u001b[1;32m      4\u001b[0m     \u001b[0;32mfor\u001b[0m \u001b[0mj\u001b[0m \u001b[0;32min\u001b[0m \u001b[0mrange\u001b[0m\u001b[0;34m(\u001b[0m\u001b[0;36m0\u001b[0m\u001b[0;34m,\u001b[0m\u001b[0;36m1\u001b[0m\u001b[0;34m,\u001b[0m\u001b[0;36m1\u001b[0m\u001b[0;34m)\u001b[0m\u001b[0;34m:\u001b[0m\u001b[0;34m\u001b[0m\u001b[0;34m\u001b[0m\u001b[0m\n\u001b[1;32m      5\u001b[0m         \u001b[0;32mfor\u001b[0m \u001b[0mlevel\u001b[0m \u001b[0;32min\u001b[0m \u001b[0mrange\u001b[0m\u001b[0;34m(\u001b[0m\u001b[0;36m0\u001b[0m\u001b[0;34m,\u001b[0m\u001b[0;36m1\u001b[0m\u001b[0;34m,\u001b[0m\u001b[0;36m1\u001b[0m\u001b[0;34m)\u001b[0m\u001b[0;34m:\u001b[0m\u001b[0;34m\u001b[0m\u001b[0;34m\u001b[0m\u001b[0m\n\u001b[0;32m----> 6\u001b[0;31m             \u001b[0mR\u001b[0m\u001b[0;34m[\u001b[0m\u001b[0mi\u001b[0m\u001b[0;34m]\u001b[0m\u001b[0;34m[\u001b[0m\u001b[0mj\u001b[0m\u001b[0;34m]\u001b[0m \u001b[0;34m=\u001b[0m \u001b[0mR\u001b[0m\u001b[0;34m[\u001b[0m\u001b[0mi\u001b[0m\u001b[0;34m]\u001b[0m\u001b[0;34m[\u001b[0m\u001b[0mj\u001b[0m\u001b[0;34m]\u001b[0m\u001b[0;34m+\u001b[0m\u001b[0mgamma\u001b[0m\u001b[0;34m[\u001b[0m\u001b[0mi\u001b[0m\u001b[0;34m]\u001b[0m\u001b[0;34m[\u001b[0m\u001b[0mlevel\u001b[0m\u001b[0;34m]\u001b[0m\u001b[0;34m*\u001b[0m\u001b[0mgamma\u001b[0m\u001b[0;34m[\u001b[0m\u001b[0mj\u001b[0m\u001b[0;34m]\u001b[0m\u001b[0;34m[\u001b[0m\u001b[0mlevel\u001b[0m\u001b[0;34m]\u001b[0m\u001b[0;34m/\u001b[0m\u001b[0;34m(\u001b[0m\u001b[0mER\u001b[0m\u001b[0;34m[\u001b[0m\u001b[0mlevel\u001b[0m\u001b[0;34m]\u001b[0m\u001b[0;34m-\u001b[0m\u001b[0mEx\u001b[0m\u001b[0;34m)\u001b[0m\u001b[0;34m\u001b[0m\u001b[0;34m\u001b[0m\u001b[0m\n\u001b[0m",
      "\u001b[0;31mTypeError\u001b[0m: unsupported operand type(s) for -: 'float' and 'list'"
     ]
    }
   ],
   "source": [
    "#Calculate the R-matrix boi\n",
    "R = [[0,0],[0,0]]\n",
    "for i in range(0,1,1):\n",
    "    for j in range(0,1,1):\n",
    "        for level in range(0,1,1):\n",
    "            R[i][j] = R[i][j]+gamma[i][level]*gamma[j][level]/(ER[level]-Ex)"
   ]
  },
  {
   "cell_type": "code",
   "execution_count": null,
   "metadata": {},
   "outputs": [],
   "source": [
    "#Whittaker Subroutine\n",
    "def whittaker:"
   ]
  },
  {
   "cell_type": "code",
   "execution_count": null,
   "metadata": {},
   "outputs": [],
   "source": [
    "#Coulomb subroutine\n",
    "def coulomb:\n",
    "    "
   ]
  },
  {
   "cell_type": "code",
   "execution_count": 77,
   "metadata": {},
   "outputs": [],
   "source": [
    "#Penetration subroutine\n",
    "def penetration(ECM,ka,kd,eta):\n",
    "    if ECM < 0:\n",
    "        pen = 0.0\n",
    "    else:\n",
    "        ka = kapre*np.sqrt(ECMa)\n",
    "        kd = kdpre*np.sqrt(ECMd)\n",
    "        eta = etapre/np.sqrt(ECMd)\n",
    "        #call a Coulomb function\n",
    "        #pen = k*a/(f**2+g**2)"
   ]
  },
  {
   "cell_type": "code",
   "execution_count": null,
   "metadata": {},
   "outputs": [],
   "source": [
    "#Shift subroutine\n",
    "def shift(ECM,ka,kd,eta)\n",
    "    if ECM < 0:\n",
    "        ka = kapre*np.sqrt(-1*EMCa)\n",
    "        kd = kdpre*np.sqrt(-1*ECMd)\n",
    "        eta = etapre/np.sqrt(-1*ECMd)\n",
    "        #call a whittaker function\n",
    "        #shifta = 2*ka*a*(f*fp+g*gp)/(f**2+g**2)\n",
    "        #shiftd = 2*kd*a*(f*fp+g*gp)/(f**2+g**2)"
   ]
  },
  {
   "cell_type": "code",
   "execution_count": 73,
   "metadata": {},
   "outputs": [],
   "source": [
    "#Calculate Penetrations and Shifts\n",
    "#Pd = penetration(Exd)\n",
    "#Pa = penetration(Exa)\n",
    "#shiftd = shift(Exd)\n",
    "#shifta = shift(Exa)"
   ]
  },
  {
   "cell_type": "code",
   "execution_count": 108,
   "metadata": {},
   "outputs": [
    {
     "data": {
      "text/plain": [
       "4"
      ]
     },
     "execution_count": 108,
     "metadata": {},
     "output_type": "execute_result"
    }
   ],
   "source": []
  },
  {
   "cell_type": "code",
   "execution_count": null,
   "metadata": {},
   "outputs": [],
   "source": []
  }
 ],
 "metadata": {
  "kernelspec": {
   "display_name": "Python 3",
   "language": "python",
   "name": "python3"
  },
  "language_info": {
   "codemirror_mode": {
    "name": "ipython",
    "version": 3
   },
   "file_extension": ".py",
   "mimetype": "text/x-python",
   "name": "python",
   "nbconvert_exporter": "python",
   "pygments_lexer": "ipython3",
   "version": "3.6.8"
  }
 },
 "nbformat": 4,
 "nbformat_minor": 2
}
